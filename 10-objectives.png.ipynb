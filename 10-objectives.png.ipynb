{
 "cells": [
  {
   "cell_type": "markdown",
   "id": "ed988c0b",
   "metadata": {},
   "source": [
    "Introduction  "
   ]
  },
  {
   "cell_type": "markdown",
   "id": "3cb5b372",
   "metadata": {},
   "source": [
    "OBJECTIF DU COURS\n",
    "\n",
    "- Connaitre les outils open Source de la science des données\n",
    "- Connaitre les langages de la science des données\n",
    "- Maitriser l'environnement jupyterNotebook et jupyterLab\n",
    "- Maitriser les bases de Rstudio\n",
    "- Connaitre les bibliothèques de la science des données"
   ]
  },
  {
   "cell_type": "code",
   "execution_count": null,
   "id": "7b938e72",
   "metadata": {},
   "outputs": [],
   "source": []
  }
 ],
 "metadata": {
  "kernelspec": {
   "display_name": "Python 3 (ipykernel)",
   "language": "python",
   "name": "python3"
  },
  "language_info": {
   "codemirror_mode": {
    "name": "ipython",
    "version": 3
   },
   "file_extension": ".py",
   "mimetype": "text/x-python",
   "name": "python",
   "nbconvert_exporter": "python",
   "pygments_lexer": "ipython3",
   "version": "3.11.5"
  }
 },
 "nbformat": 4,
 "nbformat_minor": 5
}
